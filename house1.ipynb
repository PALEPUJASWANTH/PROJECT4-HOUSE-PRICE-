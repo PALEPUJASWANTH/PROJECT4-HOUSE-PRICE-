import pandas as pd
import matplotlib.pyplot as plt
import seaborn as sns
from sklearn.model_selection import train_test_split
from sklearn.linear_model import LinearRegression
from sklearn.ensemble import RandomForestRegressor
from sklearn.metrics import mean_squared_error, r2_score


# --- Load Dataset ---
df = pd.read_csv('california_housing.csv')


# --- Exploratory Data Analysis ---
print(df.head())
print(df.describe())
print(df.isnull().sum())


# Histogram of House Prices
plt.figure(figsize=(8,5))
sns.histplot(df['MedHouseVal'], bins=50, kde=True, color='skyblue')
plt.title('Distribution of House Prices')
plt.xlabel('Median House Value')
plt.ylabel('Frequency')
plt.show()


# Pairplot
sns.pairplot(df[['MedInc','AveRooms','HouseAge','MedHouseVal']])
plt.show()


# Correlation Heatmap
plt.figure(figsize=(10,8))
sns.heatmap(df.corr(), annot=True, cmap='coolwarm', fmt='.2f')
plt.title('Feature Correlation Heatmap')
plt.show()


# Scatter plot: Median Income vs House Price
plt.figure(figsize=(8,5))
sns.scatterplot(x='MedInc', y='MedHouseVal', data=df)
plt.title('Median Income vs House Price')
plt.xlabel('Median Income')
plt.ylabel('Median House Value')
plt.show()


# --- Prepare Data ---
X = df.drop('MedHouseVal', axis=1)
y = df['MedHouseVal']
X_train, X_test, y_train, y_test = train_test_split(X, y, test_size=0.2, random_state=42)


# --- Train Models ---
# Linear Regression
lr_model = LinearRegression()
lr_model.fit(X_train, y_train)
y_pred_lr = lr_model.predict(X_test)


plt.show()